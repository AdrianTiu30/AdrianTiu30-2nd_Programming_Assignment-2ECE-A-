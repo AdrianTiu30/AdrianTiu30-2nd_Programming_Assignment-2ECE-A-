{
 "cells": [
  {
   "cell_type": "code",
   "execution_count": 57,
   "id": "366ada4f-3d60-4154-a3ed-35392530938f",
   "metadata": {},
   "outputs": [],
   "source": [
    "import numpy as np"
   ]
  },
  {
   "cell_type": "code",
   "execution_count": 58,
   "id": "d3296d90-e6de-4091-9bfb-8b7b3374bf4b",
   "metadata": {},
   "outputs": [],
   "source": [
    "# Create random 5x5 array and populate with numbers between 0 and 1\n",
    "X = np.random.rand(5, 5)"
   ]
  },
  {
   "cell_type": "code",
   "execution_count": 59,
   "id": "e5a083ef-ddb1-49ae-9caf-17bcf8d3b8ff",
   "metadata": {},
   "outputs": [],
   "source": [
    "# Calculate mean and standard deviation\n",
    "mean = X.mean()\n",
    "std = X.std()"
   ]
  },
  {
   "cell_type": "code",
   "execution_count": 60,
   "id": "34763a80-e051-47c5-b206-a7962819d3c8",
   "metadata": {},
   "outputs": [],
   "source": [
    "# Calculate Mean\n",
    "mean_X = X.mean()"
   ]
  },
  {
   "cell_type": "code",
   "execution_count": 61,
   "id": "c007483f-59e1-4a73-8bdc-4bcca215ee6c",
   "metadata": {},
   "outputs": [],
   "source": [
    "# Calculate Standard Deviation\n",
    "std_X = X.std()"
   ]
  },
  {
   "cell_type": "code",
   "execution_count": 65,
   "id": "78b0579e-caca-4a8d-a75b-fb77447e48d2",
   "metadata": {},
   "outputs": [
    {
     "name": "stdout",
     "output_type": "stream",
     "text": [
      "Original Array:\n",
      " [[0.95895433 0.79880155 0.63408688 0.14686358 0.91448791]\n",
      " [0.82379238 0.56745226 0.90494344 0.34469005 0.34451736]\n",
      " [0.54308778 0.91566379 0.74918788 0.498106   0.90452171]\n",
      " [0.15134974 0.11158792 0.81604001 0.61034154 0.43233711]\n",
      " [0.14959765 0.53159561 0.65255454 0.59189127 0.02426123]]\n",
      "\n",
      "Mean of X: 0.5648285400837969\n",
      "Standard Deviation of X: 0.28300200715135776\n",
      "\n",
      "Normalized Array:\n",
      " [[ 1.39266077  0.82675387  0.24472738 -1.47689752  1.23553672]\n",
      " [ 0.91506007  0.00927101  1.20181093 -0.77786902 -0.77847921]\n",
      " [-0.07682194  1.23969173  0.65144183 -0.23576703  1.20032072]\n",
      " [-1.46104546 -1.60154559  0.88766674  0.16082217 -0.46816429]\n",
      " [-1.46723655 -0.11743003  0.30998366  0.09562733 -1.9101183 ]]\n",
      "\n",
      "Normalized array saved as 'X_normalized.npy'\n"
     ]
    }
   ],
   "source": [
    "# Normalize array \n",
    "X_normalized = (X - mean) / std\n",
    "\n",
    "# Print original array and normalized array\n",
    "print(\"Original Array:\\n\", X)\n",
    "print(\"\\nMean of X:\", mean_X)\n",
    "print(\"Standard Deviation of X:\", std_X)\n",
    "print(\"\\nNormalized Array:\\n\", X_normalized)\n",
    "\n",
    "# Save and print saved file name\n",
    "np.save(\"X_normalized.npy\", X_normalized)\n",
    "print(\"\\nNormalized array saved as 'X_normalized.npy'\")"
   ]
  },
  {
   "cell_type": "code",
   "execution_count": 66,
   "id": "dc6c0899-1872-4501-ad49-2fcdf8def161",
   "metadata": {},
   "outputs": [
    {
     "name": "stdout",
     "output_type": "stream",
     "text": [
      "Array of squares (10x10):\n",
      " [[    1     4     9    16    25    36    49    64    81   100]\n",
      " [  121   144   169   196   225   256   289   324   361   400]\n",
      " [  441   484   529   576   625   676   729   784   841   900]\n",
      " [  961  1024  1089  1156  1225  1296  1369  1444  1521  1600]\n",
      " [ 1681  1764  1849  1936  2025  2116  2209  2304  2401  2500]\n",
      " [ 2601  2704  2809  2916  3025  3136  3249  3364  3481  3600]\n",
      " [ 3721  3844  3969  4096  4225  4356  4489  4624  4761  4900]\n",
      " [ 5041  5184  5329  5476  5625  5776  5929  6084  6241  6400]\n",
      " [ 6561  6724  6889  7056  7225  7396  7569  7744  7921  8100]\n",
      " [ 8281  8464  8649  8836  9025  9216  9409  9604  9801 10000]]\n",
      "\n",
      "Numbers divisible by 3:\n",
      " [   9   36   81  144  225  324  441  576  729  900 1089 1296 1521 1764\n",
      " 2025 2304 2601 2916 3249 3600 3969 4356 4761 5184 5625 6084 6561 7056\n",
      " 7569 8100 8649 9216 9801]\n",
      "\n",
      "Result saved as 'div_by_3.npy'\n"
     ]
    }
   ],
   "source": [
    "import numpy as np\n",
    "\n",
    "# Create 10x10 array of squares of first 100 positive integers\n",
    "A = np.arange(1, 101)**2\n",
    "A = A.reshape(10, 10)\n",
    "\n",
    "# Find elements divisible by 3\n",
    "div_by_3 = A[A % 3 == 0]\n",
    "\n",
    "# Save result\n",
    "np.save(\"div_by_3.npy\", div_by_3)\n",
    "\n",
    "# Print results\n",
    "print(\"Array of squares (10x10):\\n\", A)\n",
    "print(\"\\nNumbers divisible by 3:\\n\", div_by_3)\n",
    "print(\"\\nResult saved as 'div_by_3.npy'\")"
   ]
  }
 ],
 "metadata": {
  "kernelspec": {
   "display_name": "Python [conda env:base] *",
   "language": "python",
   "name": "conda-base-py"
  },
  "language_info": {
   "codemirror_mode": {
    "name": "ipython",
    "version": 3
   },
   "file_extension": ".py",
   "mimetype": "text/x-python",
   "name": "python",
   "nbconvert_exporter": "python",
   "pygments_lexer": "ipython3",
   "version": "3.13.5"
  }
 },
 "nbformat": 4,
 "nbformat_minor": 5
}
